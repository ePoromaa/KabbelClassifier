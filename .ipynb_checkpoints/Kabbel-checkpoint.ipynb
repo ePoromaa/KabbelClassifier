{
 "cells": [
  {
   "cell_type": "markdown",
   "metadata": {},
   "source": [
    "## Käbbel importerare\n",
    "\n",
    "Denna funktion läser allt käbbel från regeringens hemsida och sparar ner skiten i en fil: kabbel.txt\n",
    "- datasize kan sättas till hur många sidor som ska hämtas\n"
   ]
  },
  {
   "cell_type": "markdown",
   "metadata": {},
   "source": [
    "### Läs in fil och skapa ordvektor\n",
    "\n",
    "Denna läser in orden från ovan skapade fil och bygger en data av den som vi använder som träningsdata"
   ]
  },
  {
   "cell_type": "code",
   "execution_count": 7,
   "metadata": {
    "collapsed": true
   },
   "outputs": [],
   "source": [
    "import numpy as np\n",
    "import urllib.request, json, re\n",
    "import pprint as pp\n",
    "import tensorflow as tf\n",
    "import re\n",
    "\n"
   ]
  },
  {
   "cell_type": "code",
   "execution_count": 8,
   "metadata": {
    "collapsed": true
   },
   "outputs": [],
   "source": [
    "\n",
    "\n",
    "def file_to_json(filename):\n",
    "    with open(filename,encoding=\"utf-8\") as f:\n",
    "        data = json.loads(f.read())\n",
    "        return data\n",
    "\n",
    "def kabbel_to_vec(jsondata):\n",
    "    speech = []\n",
    "    classes = []\n",
    "    person = []\n",
    "    words = []\n",
    "    for sample in jsondata:\n",
    "        cleaned = re.sub(r'[.|,]', '', sample[\"kabbel\"])\n",
    "        words += cleaned.lower().split()\n",
    "        speech.append(cleaned)\n",
    "        classes.append(sample[\"parti\"])\n",
    "        person.append(sample[\"talare\"])\n",
    "\n",
    "    #print(speech)\n",
    "    #data = tf.compat.as_str(speech).split()\n",
    "    return speech, classes, person\n",
    "\n",
    "\n"
   ]
  },
  {
   "cell_type": "code",
   "execution_count": null,
   "metadata": {
    "collapsed": true
   },
   "outputs": [],
   "source": []
  },
  {
   "cell_type": "code",
   "execution_count": null,
   "metadata": {
    "collapsed": true
   },
   "outputs": [],
   "source": []
  },
  {
   "cell_type": "markdown",
   "metadata": {},
   "source": [
    "Läs in olika delar och tilldela X och Y i vår modell"
   ]
  },
  {
   "cell_type": "code",
   "execution_count": 9,
   "metadata": {},
   "outputs": [
    {
     "name": "stdout",
     "output_type": "stream",
     "text": [
      "Exempel på ett sample ur datan: \n",
      "[\n",
      "    {\n",
      "        \"kabbel\": \"jag ska fatta mig kort.\",\n",
      "        \"parti\": \"SD\",\n",
      "        \"talare\": \"Paula Bieler (SD)\"\n",
      "    },\n",
      "    {\n",
      "        \"kabbel\": \"jag har redan redogjort f\\u00f6r huvudargumentationen bakom detta,\",\n",
      "        \"parti\": \"SD\",\n",
      "        \"talare\": \"Paula Bieler (SD)\"\n",
      "    }\n",
      "]\n",
      "Classes: ['SD', 'SD', 'SD']... \n",
      "\n",
      "Speech:['jag ska fatta mig kort', 'jag har redan redogjort för huvudargumentationen bakom detta', 'men för att sammanfatta kan vi konstatera att vi har en situation i dagsläget där endera av två olika scenarier har utspelat sig de senaste åren']...\n"
     ]
    }
   ],
   "source": [
    "\n",
    "jsondata = file_to_json(\"kabbel_big.txt\")\n",
    "print(\"Exempel på ett sample ur datan: \\n\"+json.dumps(jsondata[:2], indent=4))\n",
    "\n",
    "\n",
    "speech, classes, person = kabbel_to_vec(jsondata)\n",
    "\n",
    "print(\"Classes: {0}... \\n\\nSpeech:{1}...\".format(classes[:3], speech[:3]))"
   ]
  },
  {
   "cell_type": "markdown",
   "metadata": {},
   "source": [
    "## Anpassning av träningsdata (sample=X) och klassificering (Y)\n",
    "\n",
    "Vi konverterar varje sample till en träningsvektor av längden `len(unika antal ord)` och värde `n` för antal förekomst per ord\n",
    "\n",
    "Vi konverterar varje klasificering till en vektor som beskriver klasserna"
   ]
  },
  {
   "cell_type": "code",
   "execution_count": 10,
   "metadata": {
    "collapsed": true
   },
   "outputs": [],
   "source": [
    "\n",
    "def samples_to_vocab(samples):\n",
    "    all_unique_words = list(set(' '.join(samples).split(' '))) \n",
    "    word_to_idx = {i:w for w,i in enumerate(all_unique_words)}\n",
    "    idx_to_word = {i:w for i,w in enumerate(all_unique_words)}\n",
    "    return word_to_idx, idx_to_word\n",
    "\n",
    "def sample_to_vec(sample, wi):\n",
    "    vocabular = wi\n",
    "    sample_words = np.array(sample.split(\" \"))\n",
    "    vec = np.array([wi[x] for x in sample_words])\n",
    "    one_hot = np.zeros([len(vec), len(vocabular)])\n",
    "    one_hot[np.arange(len(vec)),vec] = 1\n",
    "    one_hot = np.sum(one_hot,axis=0)\n",
    "    return vec,one_hot\n",
    "\n",
    "def samples_to_train(samples):\n",
    "    vocabulary, iw = samples_to_vocab(samples)\n",
    "    sample_vector = []\n",
    "    for sample in samples:\n",
    "        _, x = sample_to_vec(sample, vocabulary)\n",
    "        sample_vector.append(x)\n",
    "    return np.matrix(sample_vector).reshape((len(samples),len(vocabulary))).T, vocabulary, iw\n"
   ]
  },
  {
   "cell_type": "code",
   "execution_count": 11,
   "metadata": {},
   "outputs": [
    {
     "name": "stdout",
     "output_type": "stream",
     "text": [
      "['jag ska fatta mig kort', 'jag har redan redogjort för huvudargumentationen bakom detta']\n",
      "[[ 0.  1.]\n",
      " [ 1.  0.]\n",
      " [ 0.  1.]\n",
      " [ 1.  1.]\n",
      " [ 0.  1.]\n",
      " [ 1.  0.]\n",
      " [ 1.  0.]\n",
      " [ 0.  1.]\n",
      " [ 1.  0.]\n",
      " [ 0.  1.]\n",
      " [ 0.  1.]\n",
      " [ 0.  1.]]\n"
     ]
    },
    {
     "data": {
      "text/plain": [
       "(matrix([[ 0.,  1.],\n",
       "         [ 1.,  0.]]), {'Björn': 0, 'Joakim': 1}, {0: 'Björn', 1: 'Joakim'})"
      ]
     },
     "execution_count": 11,
     "metadata": {},
     "output_type": "execute_result"
    }
   ],
   "source": [
    "test_data =[\n",
    "    {\n",
    "        \"talare\": \"Joakim\",\n",
    "        \"parti\": \"S\",\n",
    "        \"kabbel\": \"jag ska, fatta mig kort.\"\n",
    "    },\n",
    "    {\n",
    "        \"talare\": \"Björn\",\n",
    "        \"parti\": \"SD\",\n",
    "        \"kabbel\": \"jag har redan redogjort f\\u00f6r huvudargumentationen bakom detta,\"\n",
    "    }\n",
    "]\n",
    "\n",
    "test_samples,test_parti, test_classes = kabbel_to_vec(test_data)\n",
    "\n",
    "#test_samples = [\"Apan är Bäst\", \"Joakim är Bäst i klassen i alla fall\",\"Joakim\"]\n",
    "#test_classes = [\"Apan\", \"Joakim\",\"Joadkim\"]\n",
    "\n",
    "print(test_samples)\n",
    "a, b, c = samples_to_train(test_samples)\n",
    "print(a)\n",
    "samples_to_train(test_classes)"
   ]
  },
  {
   "cell_type": "code",
   "execution_count": 12,
   "metadata": {
    "collapsed": true
   },
   "outputs": [],
   "source": [
    "def print_data_info(speech,classes,test_index=0):\n",
    "    X_train,vocabulary_x, _ = samples_to_train(speech)\n",
    "    Y_train,vocabulary_y, _ = samples_to_train(classes)\n",
    "    print(\"Antal unika ord (features X):\\t\",X_train.shape[0])\n",
    "    print(\"training samples m:\\t\\t\",Y_train.shape[1])\n",
    "    print(\"unika klassificeringar (Y):\\t\",Y_train.shape[0])\n",
    "    vec, one = sample_to_vec(speech[test_index],vocabulary_x)\n",
    "    print(\"X:\")\n",
    "    print(\"Original: {0}{1}\".format(speech[test_index][:70],\"...\" if len(speech[test_index])>70 else \"\"))\n",
    "    print(\"Vokabulär: {0}\".format([x for x in vocabulary_x][:10]))\n",
    "    print(\"x0 :\\n{0}\".format(vec))\n",
    "    print(\"x0 compressed:\\n{0}\\n\".format(X_train)) \n",
    "    print(\"Y:\")\n",
    "    print([x for x in vocabulary_y])\n",
    "    print(\"y0 compressed:\\n{0}\".format(Y_train)) \n",
    "    assert X_train.shape[1] == Y_train.shape[1] , 'Det måste finnas lika många X som Y:n'\n",
    "\n",
    "def print_shape_info(X_train,Y_train):\n",
    "    print(\"number of training examples: {0}\".format(X_train.shape[1]))\n",
    "    print(\"X_train shape: {0}\".format(str(X_train.shape)))\n",
    "    print(\"Y_train shape: {0}\".format(str(Y_train.shape)))\n",
    "  "
   ]
  },
  {
   "cell_type": "code",
   "execution_count": 13,
   "metadata": {},
   "outputs": [
    {
     "name": "stdout",
     "output_type": "stream",
     "text": [
      "number of training examples: 5\n",
      "X_train shape: (9, 5)\n",
      "Y_train shape: (4, 5)\n",
      "Antal unika ord (features X):\t 9\n",
      "training samples m:\t\t 5\n",
      "unika klassificeringar (Y):\t 4\n",
      "X:\n",
      "Original: Apan är Bäst Bäst Bäst\n",
      "Vokabulär: ['är', 'fall', 'alla', 'i', 'Hejhej', 'klassen', 'Bäst', 'Apan', 'Joakim']\n",
      "x0 :\n",
      "[7 0 6 6 6]\n",
      "x0 compressed:\n",
      "[[ 1.  1.  0.  0.  0.]\n",
      " [ 0.  1.  0.  0.  0.]\n",
      " [ 0.  1.  0.  0.  0.]\n",
      " [ 0.  2.  0.  0.  0.]\n",
      " [ 0.  0.  0.  1.  0.]\n",
      " [ 0.  1.  0.  0.  0.]\n",
      " [ 3.  1.  0.  0.  0.]\n",
      " [ 1.  0.  0.  0.  0.]\n",
      " [ 0.  1.  1.  0.  1.]]\n",
      "\n",
      "Y:\n",
      "['Apan', 'Joakim', 'Joadkim', 'Annan']\n",
      "y0 compressed:\n",
      "[[ 1.  0.  0.  0.  0.]\n",
      " [ 0.  1.  0.  0.  1.]\n",
      " [ 0.  0.  1.  0.  0.]\n",
      " [ 0.  0.  0.  1.  0.]]\n"
     ]
    }
   ],
   "source": [
    "test_samples = [\"Apan är Bäst Bäst Bäst\", \"Joakim är Bäst i klassen i alla fall\",\"Joakim\",\"Hejhej\",\"Joakim\"]\n",
    "test_classes = [\"Apan\", \"Joakim\",\"Joadkim\",\"Annan\",\"Joakim\"]\n",
    "\n",
    "\n",
    "\n",
    "X_samp,vocabulary_x, iw = samples_to_train(test_samples)\n",
    "Y_samp,vocabulary_y ,iw= samples_to_train(test_classes)\n",
    "\n",
    "print_shape_info(X_samp, Y_samp)\n",
    "print_data_info(test_samples,test_classes,test_index=0)"
   ]
  },
  {
   "cell_type": "code",
   "execution_count": 14,
   "metadata": {
    "collapsed": true
   },
   "outputs": [],
   "source": [
    "def get_stop_words(X, iw, top=10):\n",
    "\n",
    "    X_samp_sum = np.sum(X,axis=1)\n",
    "    \n",
    "    idx = np.argsort(-X_samp_sum, axis=0)\n",
    "    iw_ar = [w for (i,w) in iw.items()]\n",
    "    count = X_samp_sum[idx[:top]].flatten()\n",
    "    labels = np.asarray(iw_ar)[idx[:top]]\n",
    "    a = count.tolist()[0]\n",
    "    b = labels.flatten().tolist()\n",
    "    z = dict(zip(b,a))\n",
    "    res = []\n",
    "    for k,v in z.items():\n",
    "        res.append(\"{0}\\t{1:20}\\t[{2}]\".format(len(res)+1,k,v).expandtabs(2))\n",
    "    print(\"\\n\".join(res))\n",
    "    return idx\n",
    "\n",
    "def remove_features(X_samp, del_idx, iw, remove):\n",
    "    #del_idx = get_stop_words(X_samp,iw,remove)\n",
    "    iwr = [w for (i,w) in iw.items()]\n",
    "    iwr = np.delete(iwr, del_idx[:remove], axis=0)\n",
    "    X_red = np.delete(X_samp, del_idx[:remove], axis=0)\n",
    "    \n",
    "    assert X_samp.shape[0] == X_red.shape[0]+remove\n",
    "    return X_red, iwr\n"
   ]
  },
  {
   "cell_type": "code",
   "execution_count": 15,
   "metadata": {},
   "outputs": [
    {
     "name": "stdout",
     "output_type": "stream",
     "text": [
      "1 Bäst                  [4.0]\n",
      "2 Joakim                [3.0]\n",
      "['är' 'fall' 'alla' 'i' 'Hejhej' 'klassen' 'Apan']\n"
     ]
    }
   ],
   "source": [
    "remove = 2\n",
    "\n",
    "X_samp,_, iw = samples_to_train(test_samples)\n",
    "del_idx = get_stop_words(X_samp,iw,remove)\n",
    "X_red, iwr = remove_features(X_samp,del_idx, iw, remove)\n",
    "\n",
    "print(iwr)\n",
    "\n"
   ]
  },
  {
   "cell_type": "code",
   "execution_count": 17,
   "metadata": {
    "collapsed": true
   },
   "outputs": [],
   "source": [
    "def shuffle(X,Y, seed=1):\n",
    "    np.random.seed(1)\n",
    "    randomize = np.arange(X.shape[1])\n",
    "    np.random.shuffle(randomize)\n",
    "    #blanda kolumnerna\n",
    "    X = X[:,randomize]\n",
    "    Y = Y[:,randomize]\n",
    "    return X,Y"
   ]
  },
  {
   "cell_type": "code",
   "execution_count": 18,
   "metadata": {},
   "outputs": [
    {
     "name": "stdout",
     "output_type": "stream",
     "text": [
      "array([[ 0.4359949 ,  0.02592623,  0.54966248,  0.43532239,  0.4203678 ],\n",
      "       [ 0.33033482,  0.20464863,  0.61927097,  0.29965467,  0.26682728]])\n",
      "array([[ 0.54966248,  0.02592623,  0.4203678 ,  0.4359949 ,  0.43532239],\n",
      "       [ 0.61927097,  0.20464863,  0.26682728,  0.33033482,  0.29965467]])\n",
      "array([[ 0.54966248,  0.02592623,  0.4203678 ,  0.4359949 ,  0.43532239],\n",
      "       [ 0.61927097,  0.20464863,  0.26682728,  0.33033482,  0.29965467]])\n"
     ]
    }
   ],
   "source": [
    "np.random.seed(2)\n",
    "a = np.random.rand(2,5)\n",
    "b,c  = shuffle(a,a,1)\n",
    "pp.pprint(a)\n",
    "pp.pprint(b)\n",
    "pp.pprint(c)"
   ]
  },
  {
   "cell_type": "code",
   "execution_count": 19,
   "metadata": {
    "collapsed": true
   },
   "outputs": [],
   "source": [
    "def split_train_dev_test(X,Y,ratio=.5):\n",
    "    np.random.seed(2)\n",
    "    m = X.shape[1]\n",
    "    m_train = int(np.floor((X.shape[1]*ratio)))\n",
    "    m_bi = int((m - m_train)/2)\n",
    "    \n",
    "    X_orig, Y_orig = shuffle(X,Y)\n",
    "    \n",
    "    X_train, X_dev, X_test = X_orig[:,:m_train], X_orig[:,m_train:m_train+m_bi], X_orig[:,m_train+m_bi:]\n",
    "    Y_train, Y_dev, Y_test = Y_orig[:,:m_train], Y_orig[:,m_train:m_train+m_bi], Y_orig[:,m_train+m_bi:]\n",
    "    print(m_train,m_bi+m_train)\n",
    "    return X_train, X_dev, X_test, Y_train, Y_dev, Y_test"
   ]
  },
  {
   "cell_type": "code",
   "execution_count": 20,
   "metadata": {},
   "outputs": [
    {
     "name": "stdout",
     "output_type": "stream",
     "text": [
      "4 4\n",
      "m:5\n",
      "m_train:4\n",
      "m_dev:0\n",
      "m_test:1\n",
      "[[ 1.  1.  0.  0.  0.]\n",
      " [ 0.  1.  0.  0.  0.]\n",
      " [ 0.  1.  0.  0.  0.]\n",
      " [ 0.  2.  0.  0.  0.]\n",
      " [ 0.  0.  0.  1.  0.]\n",
      " [ 0.  1.  0.  0.  0.]\n",
      " [ 3.  1.  0.  0.  0.]\n",
      " [ 1.  0.  0.  0.  0.]\n",
      " [ 0.  1.  1.  0.  1.]]\n",
      "(9, 4)\n",
      "(4, 4)\n"
     ]
    }
   ],
   "source": [
    "\n",
    "#print_data_info(speech,classes)\n",
    "x_train,vocabulary_x,_ = samples_to_train(test_samples)\n",
    "y_train,vocabulary_y,_ = samples_to_train(test_classes)\n",
    "X_train, X_dev, X_test, Y_train, Y_dev, Y_test = split_train_dev_test(x_train,y_train,ratio=.9)\n",
    "m = x_train.shape[1]\n",
    "print('m:{0}'.format(m))\n",
    "print('m_train:{0}'.format(X_train.shape[1]))\n",
    "print('m_dev:{0}'.format(X_dev.shape[1]))\n",
    "print('m_test:{0}'.format(X_test.shape[1]))\n",
    "\n",
    "print(x_train)\n",
    "print(X_train.shape)\n",
    "print(Y_train.shape)\n",
    "\n",
    "assert m == Y_train.shape[1]+Y_dev.shape[1] + Y_test.shape[1]\n",
    "assert m == X_train.shape[1]+X_dev.shape[1] +X_test.shape[1] #\"matrisen harinte samma features\"\n",
    "assert X_train.shape[0] == X_dev.shape[0] #matrisen behåller formen features\n"
   ]
  },
  {
   "cell_type": "code",
   "execution_count": 21,
   "metadata": {
    "collapsed": true
   },
   "outputs": [],
   "source": [
    "def create_placeholders(n_x,n_y):\n",
    "    X = tf.placeholder(shape=[n_x,None],dtype=tf.float32,name=\"X\")\n",
    "    Y = tf.placeholder(shape=[n_y,None],dtype=tf.float32,name=\"Y\")\n",
    "    \n",
    "    return X, Y"
   ]
  },
  {
   "cell_type": "markdown",
   "metadata": {},
   "source": [
    "## Initiera parametrar\n"
   ]
  },
  {
   "cell_type": "code",
   "execution_count": 22,
   "metadata": {
    "collapsed": true
   },
   "outputs": [],
   "source": [
    "def initialize_params(hyperparameters):\n",
    "    \"\"\"Initializes parameters to build a neural network with tensorflow. The shapes are:\n",
    "                        W1 : [25, 12288]\n",
    "                        b1 : [25, 1]\n",
    "                        W2 : [12, 25]\n",
    "                        b2 : [12, 1]\n",
    "                        W3 : [6, 12]\n",
    "                        b3 : [6, 1]\n",
    "    Returns:\n",
    "    parameters -- a dictionary of tensors containing W1, b1, W2, b2, W3, b3\"\"\"\n",
    "    \n",
    "    layer_dims = hyperparameters['layer_dims']\n",
    "    np.random.seed(3)\n",
    "    parameters = {}\n",
    "    L = len(layer_dims)\n",
    "    for l in range(1, L):\n",
    "        parameters['W' + str(l)] = tf.get_variable(name=\"W\"+str(l),shape=[layer_dims[l],layer_dims[l-1]],initializer=tf.contrib.layers.xavier_initializer(seed = 1))\n",
    "        parameters['b' + str(l)] = tf.get_variable(name=\"b\"+str(l),shape=[layer_dims[l],1],initializer=tf.zeros_initializer())\n",
    "\n",
    "        \n",
    "        assert(parameters['W' + str(l)].shape == (layer_dims[l], layer_dims[l-1]))\n",
    "        assert(parameters['b' + str(l)].shape == (layer_dims[l], 1))\n",
    "\n",
    "    return parameters\n",
    "    "
   ]
  },
  {
   "cell_type": "code",
   "execution_count": 23,
   "metadata": {
    "collapsed": true
   },
   "outputs": [],
   "source": [
    "def init_hyperparams(layer_dims):\n",
    "    hyperparameters = {}\n",
    "    hyperparameters['layer_dims'] = layer_dims\n",
    "    \n",
    "    return hyperparameters"
   ]
  },
  {
   "cell_type": "code",
   "execution_count": 24,
   "metadata": {},
   "outputs": [
    {
     "name": "stdout",
     "output_type": "stream",
     "text": [
      "{'W1': <tf.Variable 'W1:0' shape=(25, 9) dtype=float32_ref>,\n",
      " 'W2': <tf.Variable 'W2:0' shape=(12, 25) dtype=float32_ref>,\n",
      " 'W3': <tf.Variable 'W3:0' shape=(4, 12) dtype=float32_ref>,\n",
      " 'b1': <tf.Variable 'b1:0' shape=(25, 1) dtype=float32_ref>,\n",
      " 'b2': <tf.Variable 'b2:0' shape=(12, 1) dtype=float32_ref>,\n",
      " 'b3': <tf.Variable 'b3:0' shape=(4, 1) dtype=float32_ref>}\n"
     ]
    }
   ],
   "source": [
    "\n",
    "tf.reset_default_graph() #nollställ modell\n",
    "hyperparameters = init_hyperparams(layer_dims=[X_train.shape[0],25,12,Y_train.shape[0]])\n",
    "paramteters = initialize_params(hyperparameters)\n",
    "\n",
    "pp.pprint(paramteters)"
   ]
  },
  {
   "cell_type": "markdown",
   "metadata": {},
   "source": [
    "## Forward propagation"
   ]
  },
  {
   "cell_type": "code",
   "execution_count": 27,
   "metadata": {
    "collapsed": true
   },
   "outputs": [],
   "source": [
    "def forward_propagation(X, hyperparameters, parameters):\n",
    "    layer_dims = hyperparameters['layer_dims']\n",
    "    L = len(layer_dims)-1\n",
    "  \n",
    "    Zi = {}\n",
    "    Ai = {}\n",
    "    Ai[0] = X\n",
    "    for l in range(1,L+1):\n",
    "        Zi[l] = tf.matmul(parameters['W'+str(l)],Ai[l-1])+parameters['b'+str(l)]\n",
    "        Ai[l] = tf.nn.relu(Zi[l])\n",
    "        #print(\"ff\"+str(l)+\" \"+'W'+str(l)+\"x\"+\"Ai[\"+str(l-1)+\"] + \"+'b'+str(l))\n",
    "\n",
    "    return Zi[L]\n",
    "\n",
    "\n",
    "    "
   ]
  },
  {
   "cell_type": "code",
   "execution_count": 28,
   "metadata": {},
   "outputs": [
    {
     "name": "stdout",
     "output_type": "stream",
     "text": [
      "Z3 = Tensor(\"add_2:0\", shape=(4, ?), dtype=float32)\n"
     ]
    }
   ],
   "source": [
    "tf.reset_default_graph()\n",
    "\n",
    "with tf.Session() as sess:\n",
    "    X, Y = create_placeholders(X_train.shape[0], Y_train.shape[0])\n",
    "    parameters = initialize_params(hyperparameters)\n",
    "    Z3 = forward_propagation(X, hyperparameters, parameters)\n",
    "    print(\"Z3 = \" + str(Z3))\n",
    "\n"
   ]
  },
  {
   "cell_type": "code",
   "execution_count": 29,
   "metadata": {},
   "outputs": [
    {
     "name": "stdout",
     "output_type": "stream",
     "text": [
      "Z3 = Tensor(\"add_2:0\", shape=(4, ?), dtype=float32)\n"
     ]
    }
   ],
   "source": [
    "tf.reset_default_graph()\n",
    "\n",
    "with tf.Session() as sess:\n",
    "    X, Y = create_placeholders(X_train.shape[0], Y_train.shape[0])\n",
    "    parameters = initialize_params(hyperparameters)\n",
    "    Z3 = forward_propagation(X, hyperparameters, parameters)\n",
    "    print(\"Z3 = \" + str(Z3))\n",
    "\n"
   ]
  },
  {
   "cell_type": "markdown",
   "metadata": {},
   "source": [
    "### Kostnadsfunktion"
   ]
  },
  {
   "cell_type": "code",
   "execution_count": 30,
   "metadata": {
    "collapsed": true
   },
   "outputs": [],
   "source": [
    "def compute_cost(Z3, Y):\n",
    "    \n",
    "    #    weights = tf.Variable(tf.truncated_normal([image_size * image_size, num_labels]))\n",
    "    #biases = tf.Variable(tf.zeros([num_labels]))\n",
    "   # weights = tf.Variable(tf.truncated_normal([Z3.shape[0], Z3.shape[1]]))\n",
    "   # biases = tf.Variable(tf.zeros([Z3.shape[1]]))\n",
    "  \n",
    "    # Training computation.\n",
    "   # logits = tf.transpose(tf.matmul(Z3, weights) + biases )\n",
    "    logits = tf.transpose(Z3 + Z3)\n",
    "    labels = tf.transpose(Y)\n",
    "    \n",
    "    # L2_regularization_cost = lambd/(2*m)*(np.sum(np.square(W1))+np.sum(np.square(W2))+np.sum(np.square(W3)))\n",
    "    #kostnadsfunktion ej regulariserad.\n",
    "    #logits = tf.matmul(tf_train_dataset, weights) + biases \n",
    "    # Original loss function\n",
    "    #loss = tf.reduce_mean(tf.nn.softmax_cross_entropy_with_logits(logits, tf_train_labels) )\n",
    "    cost = tf.reduce_mean(tf.nn.softmax_cross_entropy_with_logits(logits=logits,labels=labels))\n",
    "    \n",
    "    return cost\n",
    "    "
   ]
  },
  {
   "cell_type": "code",
   "execution_count": 32,
   "metadata": {
    "collapsed": true
   },
   "outputs": [],
   "source": [
    "def compute_cost_with_regularization(Z3, Y, parameters, lambd):\n",
    "    \n",
    "    layer_dims = hyperparameters['layer_dims']\n",
    "    L = len(layer_dims)-1\n",
    "    L2_regularization_cost = tf.Variable(0,dtype=tf.float32)\n",
    "    for l in range(1,L):\n",
    "        L2_regularization_cost +=  tf.nn.l2_loss(parameters['W'+str(l)])\n",
    "\n",
    "\n",
    "    logits = tf.transpose(Z3)\n",
    "    labels = tf.transpose(Y)\n",
    "    \n",
    "    loss = tf.nn.softmax_cross_entropy_with_logits(logits=logits,labels=labels)\n",
    "    \n",
    "    cost = tf.reduce_mean(loss + lambd * L2_regularization_cost)\n",
    "\n",
    "    \n",
    "    return cost"
   ]
  },
  {
   "cell_type": "code",
   "execution_count": 33,
   "metadata": {},
   "outputs": [
    {
     "name": "stdout",
     "output_type": "stream",
     "text": [
      "1\n",
      "2\n"
     ]
    }
   ],
   "source": [
    "layer_dims = hyperparameters['layer_dims']\n",
    "L = len(layer_dims)-1\n",
    "for l in range(1,L):\n",
    "        print(l)"
   ]
  },
  {
   "cell_type": "code",
   "execution_count": 34,
   "metadata": {},
   "outputs": [
    {
     "name": "stdout",
     "output_type": "stream",
     "text": [
      "cost = Tensor(\"Mean:0\", shape=(), dtype=float32)\n"
     ]
    }
   ],
   "source": [
    "tf.reset_default_graph()\n",
    "X_train,vocabulary_x, iw = samples_to_train(test_samples)\n",
    "Y_train,vocabulary_y ,iw= samples_to_train(test_classes)\n",
    "\n",
    "with tf.Session() as sess:\n",
    "    X, Y = create_placeholders(X_train.shape[0], Y_train.shape[0])\n",
    "    parameters = initialize_params(hyperparameters)\n",
    "    Z3 = forward_propagation(X, hyperparameters, parameters)\n",
    "    cost = compute_cost_with_regularization(Z3, Y,parameters,.1)\n",
    "    print(\"cost = \" + str(cost))"
   ]
  },
  {
   "cell_type": "code",
   "execution_count": 35,
   "metadata": {
    "collapsed": true
   },
   "outputs": [],
   "source": [
    "def random_mini_batches(X_train, Y_train, minibatch_size, seed):\n",
    "    \"\"\"Tar in hela train och delar upp i x antal minibatch_size\n",
    "        med randomiserade kolumner (träningsexempel)\"\"\"\n",
    "    cuts = int(X_train.shape[1] / minibatch_size)\n",
    "    X_train, Y_train = shuffle(X_train, Y_train, seed)\n",
    "    minibatch_X = []\n",
    "    minibatch_Y = []\n",
    "    minibatches = []\n",
    "\n",
    "    for i in range(0,cuts+1):\n",
    "        minibatches.append((X_train[:,i*minibatch_size:(i+1)*minibatch_size],Y_train[:,i*minibatch_size:(i+1)*minibatch_size]))\n",
    "\n",
    "    return minibatches\n",
    "    \n",
    "    "
   ]
  },
  {
   "cell_type": "code",
   "execution_count": 51,
   "metadata": {},
   "outputs": [
    {
     "name": "stdout",
     "output_type": "stream",
     "text": [
      "[[ 1.  7.  4.  7.  8.  6.  8.  4.  0.  3.  1.]\n",
      " [ 7.  6.  5.  7.  3.  3.  7.  4.  8.  1.  5.]\n",
      " [ 3.  2.  2.  7.  3.  2.  9.  4.  5.  3.  2.]]\n",
      "array([[ 4.,  7.,  8.],\n",
      "       [ 5.,  7.,  3.],\n",
      "       [ 2.,  7.,  3.]])\n",
      "array([[ 3.,  7.,  8.],\n",
      "       [ 1.,  6.,  7.],\n",
      "       [ 3.,  2.,  9.]])\n",
      "array([[ 1.,  4.,  1.],\n",
      "       [ 7.,  4.,  5.],\n",
      "       [ 3.,  4.,  2.]])\n",
      "array([[ 0.,  6.],\n",
      "       [ 8.,  3.],\n",
      "       [ 5.,  2.]])\n",
      "\n",
      "batch lengths: [3, 3, 3, 2]\n",
      "11\n"
     ]
    }
   ],
   "source": [
    "a = np.floor(np.random.rand(3,11)*10)\n",
    "minibatches = random_mini_batches(a,a,3,1)\n",
    "\n",
    "print(a)\n",
    "for (_,b) in minibatches:\n",
    "    pp.pprint(b)\n",
    "\n",
    "print(\"\\nbatch lengths: {0}\".format([b.shape[1] for (_,b) in minibatches]))\n",
    "print(sum([b.shape[1] for (_,b) in minibatches]))\n",
    "assert sum([b.shape[1] for (_,b) in minibatches]) == a.shape[1]\n"
   ]
  },
  {
   "cell_type": "markdown",
   "metadata": {},
   "source": [
    "# Modell\n",
    "Här börjar vi om fast använder ovan funktioner"
   ]
  },
  {
   "cell_type": "markdown",
   "metadata": {},
   "source": [
    "\n",
    "\n",
    "\n"
   ]
  },
  {
   "cell_type": "code",
   "execution_count": 54,
   "metadata": {},
   "outputs": [
    {
     "name": "stdout",
     "output_type": "stream",
     "text": [
      "29 most used words:\n",
      "1 att                   [9167.0]\n",
      "2 det                   [7101.0]\n",
      "3 och                   [6519.0]\n",
      "4 i                     [5525.0]\n",
      "5 som                   [5008.0]\n",
      "6 är                    [4771.0]\n",
      "7 för                   [3785.0]\n",
      "8 har                   [3402.0]\n",
      "9 vi                    [3332.0]\n",
      "10  en                    [3128.0]\n",
      "11  på                    [2793.0]\n",
      "12  till                  [2449.0]\n",
      "13  om                    [2360.0]\n",
      "14  jag                   [2330.0]\n",
      "15  inte                  [2308.0]\n",
      "16  av                    [2209.0]\n",
      "17  de                    [2101.0]\n",
      "18  den                   [2092.0]\n",
      "19  med                   [2019.0]\n",
      "20  man                   [1780.0]\n",
      "21  ett                   [1738.0]\n",
      "22  ska                   [1692.0]\n",
      "23  kan                   [1161.0]\n",
      "24  men                   [987.0]\n",
      "25  detta                 [976.0]\n",
      "26  också                 [939.0]\n",
      "27  när                   [857.0]\n",
      "28  här                   [831.0]\n",
      "29  så                    [816.0]\n",
      "[[ 0.  0.  0. ...,  0.  0.  0.]\n",
      " [ 0.  0.  0. ...,  0.  0.  0.]\n",
      " [ 0.  0.  0. ...,  0.  0.  0.]\n",
      " ..., \n",
      " [ 0.  0.  0. ...,  0.  0.  0.]\n",
      " [ 0.  0.  0. ...,  0.  0.  0.]\n",
      " [ 0.  0.  0. ...,  0.  0.  0.]]\n",
      "['offentligt' 'stor' 'eu-migranter' ..., 'tilläggsbudgeten' 'äkta'\n",
      " 'upplevelsen']\n",
      "13283 14943\n",
      "[[ 0.  0.  0.  0.]\n",
      " [ 0.  0.  0.  0.]\n",
      " [ 0.  0.  0.  0.]\n",
      " ..., \n",
      " [ 0.  0.  0.  0.]\n",
      " [ 0.  0.  0.  0.]\n",
      " [ 0.  0.  0.  0.]]\n",
      "{'C': 0, 'M': 1, 'TALMANNEN': 2, 'KD': 3, 'V': 4, 'S': 5, 'MP': 6, 'KONUNGEN': 7, 'L': 8, 'HANS': 9, 'SD': 10, 'MAJESTÄT': 11}\n",
      "train:(16506, 13283) dev:(16506, 1660) test:(16506, 1661)\n"
     ]
    }
   ],
   "source": [
    "jsondata = file_to_json(\"kabbel_big.txt\")\n",
    "speech, classes, person = kabbel_to_vec(jsondata)\n",
    "\n",
    "X_orig,vocabulary_x,iwx = samples_to_train(speech)\n",
    "Y_orig,vocabulary_y,iwy = samples_to_train(classes)\n",
    "\n",
    "#REMOVE STOP WORDS\n",
    "remove = 29\n",
    "print(\"{0} most used words:\".format(remove))\n",
    "del_idx = get_stop_words(X_orig,iwx,remove)\n",
    "X_orig, iwx_red = remove_features(X_orig,del_idx,iwx,remove)\n",
    "\n",
    "print(X_orig)\n",
    "row_sums = np.sum(X_orig,axis=1)\n",
    "print(iwx_red)\n",
    "#NORMALIZE X // not used\n",
    "#X_orig = X_orig / row_sums\n",
    "#print(X_orig)\n",
    "\n",
    "X_train, X_dev, X_test, Y_train, Y_dev, Y_test = split_train_dev_test(X_orig,Y_orig,ratio=.80)\n",
    "#print_data_info(speech,classes,test_index=0)\n",
    "\n",
    "print(vocabulary_y)\n",
    "print(\"train:{0} dev:{1} test:{2}\".format(X_train.shape,X_dev.shape,X_test.shape))\n"
   ]
  },
  {
   "cell_type": "code",
   "execution_count": 174,
   "metadata": {},
   "outputs": [],
   "source": [
    "from tensorflow.python.framework import ops\n",
    "import matplotlib.pyplot as plt\n",
    "import time\n",
    "import datetime\n",
    "\n",
    "#epoch = antal iterationer över samma samples fast med olika rand. dist. (som montecarlo eller nått)\n",
    "\n",
    "\n",
    "def model(X_train, Y_train, X_test, Y_test, learning_rate = 0.1,\n",
    "          num_epochs = 3000, minibatch_size = 512, print_cost = True, lambd = 0.03):\n",
    "\n",
    "    ops.reset_default_graph()                         # to be able to rerun the model without overwriting tf variables\n",
    "    tf.set_random_seed(1)                             # to keep consistent results  \n",
    "    seed = 1                                          # to keep consistent results\n",
    "    (n_x, m) = X_train.shape                          # (n_x: input size, m : number of examples in the train set)\n",
    "    n_y = Y_train.shape[0]                            # n_y : output size\n",
    "    costs = []                                        # To keep track of the cost\n",
    "    \n",
    "\n",
    "    #skapa tomma placeholders för vår data\n",
    "    X, Y = create_placeholders(n_x,n_y)\n",
    "    #skapa hyperparameter om lager och units samt aktiveringsfunktioner per lager\n",
    "    hyperparameters = init_hyperparams(layer_dims=[X_train.shape[0],10,5,Y_train.shape[0]])\n",
    "    #skapa W b i varje lager\n",
    "    parameters = initialize_params(hyperparameters)\n",
    "\n",
    "    #initiera beräkningsgrafen för forward/backward prop\n",
    "    Z3 = forward_propagation(X,hyperparameters,parameters)\n",
    "\n",
    "    #initiera beräkningsgraf för kostnaden \n",
    "    cost = compute_cost_with_regularization(Z3, Y, parameters, lambd) #compute_cost(Z3,Y)\n",
    "    \n",
    "    # Backpropagation: Define the tensorflow optimizer. Use an AdamOptimizer.\n",
    "    #nu med learning rate decay\n",
    "    optimizer = tf.train.AdamOptimizer(learning_rate=learning_rate, name='Adam').minimize(cost)\n",
    "   \n",
    "    # Initialize all the variables\n",
    "    init = tf.global_variables_initializer()\n",
    "\n",
    "    # Start the session to compute the tensorflow graph\n",
    "    epoch_print = 100\n",
    "    e_count = 0\n",
    "    with tf.Session() as sess:\n",
    "        \n",
    "        # Run the initialization\n",
    "        sess.run(init)\n",
    "        model_start_time = time.time()\n",
    "        last_time = model_start_time\n",
    "        # Do the training loop\n",
    "        for epoch in range(num_epochs):\n",
    "\n",
    "            epoch_cost = 0.                       # Defines a cost related to an epoch\n",
    "            num_minibatches = int(m / minibatch_size) # number of minibatches of size minibatch_size in the train set\n",
    "            seed +=1\n",
    "            minibatches = random_mini_batches(X_train, Y_train, minibatch_size, seed)\n",
    "\n",
    "            for minibatch in minibatches:\n",
    "\n",
    "                # Select a minibatch\n",
    "                (minibatch_X, minibatch_Y) = minibatch\n",
    "                _ , minibatch_cost = sess.run([optimizer, cost], feed_dict={X: minibatch_X, Y: minibatch_Y})\n",
    "            \n",
    "                epoch_cost += minibatch_cost / num_minibatches\n",
    "                \n",
    "              \n",
    "\n",
    "            # Print the cost every epoch\n",
    "            \n",
    "            if print_cost == True and (epoch % epoch_print == 0 and epoch > 0) or epoch == 1:\n",
    "                \n",
    "                t_now = time.time()\n",
    "                e_count = epoch - e_count\n",
    "                e_time = (t_now-last_time)/e_count\n",
    "               \n",
    "                est_end = (num_epochs - epoch)*e_time + t_now\n",
    "                st = datetime.datetime.fromtimestamp(est_end).strftime('%Y-%m-%d %H:%M:%S')\n",
    "                if epoch == 1:\n",
    "                    print(\"{0}\".format(datetime.timedelta(seconds=(est_end-t_now))))\n",
    "                    #print(\"estimated: {:0>8}\".format(datetime.timedelta(seconds=66)))\n",
    "                print(\"Cost after epoch {0}: {1} - epoch time {2} - est end: {3}\".format(epoch, epoch_cost,e_time,st))\n",
    "                last_time = t_now\n",
    "            if print_cost == True and epoch % 10 == 0:\n",
    "                costs.append(epoch_cost)\n",
    "                if costs[0] < epoch_cost:\n",
    "                    print(\"SOMETHING IS WRONG - cost increase?!\")\n",
    "                    break\n",
    "                \n",
    "       \n",
    "\n",
    "        # lets save the parameters in a variable\n",
    "        parameters = sess.run(parameters)\n",
    "        print (\"Parameters have been trained!\")\n",
    "\n",
    "        # Calculate the correct predictions\n",
    "        correct_prediction = tf.equal(tf.argmax(Z3), tf.argmax(Y))\n",
    "\n",
    "        # Calculate accuracy on the test set\n",
    "        accuracy = tf.reduce_mean(tf.cast(correct_prediction, \"float\"))\n",
    "\n",
    "        print (\"Train Accuracy:\", accuracy.eval({X: X_train, Y: Y_train}))\n",
    "        print (\"Test Accuracy:\", accuracy.eval({X: X_test, Y: Y_test}))\n",
    "        print(hyperparameters)\n",
    "        \n",
    "         # plot the cost\n",
    "        plt.plot(np.squeeze(costs))\n",
    "        plt.ylabel('cost')\n",
    "        plt.xlabel('iterations (per tens)')\n",
    "        plt.title(\"Learning rate =\" + str(learning_rate))\n",
    "        plt.show()\n",
    "        \n",
    "        return parameters\n",
    "\n"
   ]
  },
  {
   "cell_type": "code",
   "execution_count": 175,
   "metadata": {},
   "outputs": [
    {
     "name": "stdout",
     "output_type": "stream",
     "text": [
      "number of training examples: 13283\n",
      "X_train shape: (16506, 13283)\n",
      "Y_train shape: (12, 13283)\n",
      "0:21:14.524491\n",
      "Cost after epoch 1: 2.0660310983657837 - epoch time 6.404645681381226 - est end: 2017-09-21 16:37:56\n",
      "something is wrong- cost increase?!\n",
      "Parameters have been trained!\n",
      "Train Accuracy: 0.614921\n",
      "Test Accuracy: 0.28236\n",
      "{'layer_dims': [16506, 10, 5, 12]}\n"
     ]
    },
    {
     "data": {
      "image/png": "[encoded data removed]",
      "text/plain": [
       "<matplotlib.figure.Figure at 0x11dbce2b0>"
      ]
     },
     "metadata": {},
     "output_type": "display_data"
    },
    {
     "name": "stdout",
     "output_type": "stream",
     "text": [
      "--- 143.2214493751526 seconds ---\n"
     ]
    }
   ],
   "source": [
    "start_time = time.time()\n",
    "print_shape_info(X_train, Y_train)\n",
    "parameters = model(X_train, Y_train, X_test, Y_test, learning_rate = 0.01, num_epochs = 200,lambd = 0.0003)\n",
    "\n",
    "print(\"--- %s seconds ---\" % (time.time() - start_time))"
   ]
  },
  {
   "cell_type": "raw",
   "metadata": {
    "collapsed": true
   },
   "source": [
    "Cost after epoch 0: 1.944496\n",
    "Cost after epoch 100: 0.072316\n",
    "Cost after epoch 200: 0.060759\n",
    "Parameters have been trained!\n",
    "Train Accuracy: 0.992783\n",
    "Test Accuracy: 0.503597\n",
    "{'layer_dims': [16506, 25, 12, 12]}\n",
    "--- 43.270642042160034 seconds ---\n",
    "\n",
    "number of training examples: 2217\n",
    "X_train shape: (5165, 2217)\n",
    "Y_train shape: (5, 2217)\n",
    "4\n",
    "ff1 W1xAi[0] + b1\n",
    "ff2 W2xAi[1] + b2\n",
    "ff3 W3xAi[2] + b3\n",
    "ff4 W4xAi[3] + b4\n",
    "Parameters have been trained!\n",
    "Train Accuracy: 0.983762\n",
    "Test Accuracy: 0.528777\n",
    "--- 143.9702799320221 seconds ---\n",
    "\n",
    "\n",
    "number of training examples: 2217\n",
    "X_train shape: (5165, 2217)\n",
    "Y_train shape: (5, 2217)\n",
    "4\n",
    "ff1 W1xAi[0] + b1\n",
    "ff2 W2xAi[1] + b2\n",
    "ff3 W3xAi[2] + b3\n",
    "ff4 W4xAi[3] + b4\n",
    "Cost after epoch 0: 2.557675\n",
    "Cost after epoch 20: 2.010333\n",
    "Cost after epoch 40: 1.836701\n",
    "Cost after epoch 60: 1.696013\n",
    "Cost after epoch 80: 1.532787\n",
    "\n",
    "Parameters have been trained!\n",
    "Train Accuracy: 0.820478\n",
    "Test Accuracy: 0.57554\n",
    "--- 14.365275144577026 seconds ---\n",
    "\n",
    "\n"
   ]
  },
  {
   "cell_type": "markdown",
   "metadata": {},
   "source": [
    "# Test av modellen på ny data\n",
    "en predict-funktion som kör modellens forward-pass och använder softmax för klassificering till någon av de giltiga Y-värdena"
   ]
  },
  {
   "cell_type": "code",
   "execution_count": 41,
   "metadata": {
    "collapsed": true
   },
   "outputs": [],
   "source": [
    "def predict(speech, parameters, vocabulary):\n",
    "        sample_to_vec(speech, vocabulary)"
   ]
  },
  {
   "cell_type": "code",
   "execution_count": 42,
   "metadata": {
    "collapsed": true
   },
   "outputs": [],
   "source": [
    "def predict(X_samp):\n",
    "    X = tf.placeholder(shape=[X_train.shape[0],None],dtype=tf.float32,name=\"X\")\n",
    "    pred = forward_propagation(X,hyperparameters,parameters)\n",
    "    classify = tf.nn.softmax(tf.transpose(pred))\n",
    "    session = tf.Session()\n",
    "    session.run(init)\n",
    "    b = session.run(classify, feed_dict={X: X_samp})\n",
    "    return(b)"
   ]
  },
  {
   "cell_type": "code",
   "execution_count": 45,
   "metadata": {},
   "outputs": [
    {
     "ename": "ValueError",
     "evalue": "Tensor(\"X_1:0\", shape=(16506, ?), dtype=float32) must be from the same graph as Tensor(\"W1:0\", shape=(25, 9), dtype=float32_ref).",
     "output_type": "error",
     "traceback": [
      "\u001b[0;31m---------------------------------------------------------------------------\u001b[0m",
      "\u001b[0;31mValueError\u001b[0m                                Traceback (most recent call last)",
      "\u001b[0;32m<ipython-input-45-ef50e077b2ca>\u001b[0m in \u001b[0;36m<module>\u001b[0;34m()\u001b[0m\n\u001b[1;32m      1\u001b[0m \u001b[0;31m#XS_train, XS_dev, XS_test, YS_train, YS_dev, YS_test = split_train_dev_test(speech,classes,ratio=.82)\u001b[0m\u001b[0;34m\u001b[0m\u001b[0;34m\u001b[0m\u001b[0m\n\u001b[1;32m      2\u001b[0m \u001b[0msample_i\u001b[0m \u001b[0;34m=\u001b[0m \u001b[0;36m1000\u001b[0m\u001b[0;34m\u001b[0m\u001b[0m\n\u001b[0;32m----> 3\u001b[0;31m \u001b[0mb\u001b[0m \u001b[0;34m=\u001b[0m \u001b[0mpredict\u001b[0m\u001b[0;34m(\u001b[0m\u001b[0mX_test\u001b[0m\u001b[0;34m[\u001b[0m\u001b[0;34m:\u001b[0m\u001b[0;34m,\u001b[0m\u001b[0msample_i\u001b[0m\u001b[0;34m]\u001b[0m\u001b[0;34m)\u001b[0m\u001b[0;34m\u001b[0m\u001b[0m\n\u001b[0m\u001b[1;32m      4\u001b[0m \u001b[0mc\u001b[0m \u001b[0;34m=\u001b[0m \u001b[0mnp\u001b[0m\u001b[0;34m.\u001b[0m\u001b[0mzeros\u001b[0m\u001b[0;34m(\u001b[0m\u001b[0mb\u001b[0m\u001b[0;34m.\u001b[0m\u001b[0mshape\u001b[0m\u001b[0;34m[\u001b[0m\u001b[0;36m1\u001b[0m\u001b[0;34m]\u001b[0m\u001b[0;34m)\u001b[0m\u001b[0;34m.\u001b[0m\u001b[0mastype\u001b[0m\u001b[0;34m(\u001b[0m\u001b[0mint\u001b[0m\u001b[0;34m)\u001b[0m\u001b[0;34m\u001b[0m\u001b[0m\n\u001b[1;32m      5\u001b[0m \u001b[0;34m\u001b[0m\u001b[0m\n",
      "\u001b[0;32m<ipython-input-42-abfcd2529478>\u001b[0m in \u001b[0;36mpredict\u001b[0;34m(X_samp)\u001b[0m\n\u001b[1;32m      1\u001b[0m \u001b[0;32mdef\u001b[0m \u001b[0mpredict\u001b[0m\u001b[0;34m(\u001b[0m\u001b[0mX_samp\u001b[0m\u001b[0;34m)\u001b[0m\u001b[0;34m:\u001b[0m\u001b[0;34m\u001b[0m\u001b[0m\n\u001b[1;32m      2\u001b[0m     \u001b[0mX\u001b[0m \u001b[0;34m=\u001b[0m \u001b[0mtf\u001b[0m\u001b[0;34m.\u001b[0m\u001b[0mplaceholder\u001b[0m\u001b[0;34m(\u001b[0m\u001b[0mshape\u001b[0m\u001b[0;34m=\u001b[0m\u001b[0;34m[\u001b[0m\u001b[0mX_train\u001b[0m\u001b[0;34m.\u001b[0m\u001b[0mshape\u001b[0m\u001b[0;34m[\u001b[0m\u001b[0;36m0\u001b[0m\u001b[0;34m]\u001b[0m\u001b[0;34m,\u001b[0m\u001b[0;32mNone\u001b[0m\u001b[0;34m]\u001b[0m\u001b[0;34m,\u001b[0m\u001b[0mdtype\u001b[0m\u001b[0;34m=\u001b[0m\u001b[0mtf\u001b[0m\u001b[0;34m.\u001b[0m\u001b[0mfloat32\u001b[0m\u001b[0;34m,\u001b[0m\u001b[0mname\u001b[0m\u001b[0;34m=\u001b[0m\u001b[0;34m\"X\"\u001b[0m\u001b[0;34m)\u001b[0m\u001b[0;34m\u001b[0m\u001b[0m\n\u001b[0;32m----> 3\u001b[0;31m     \u001b[0mpred\u001b[0m \u001b[0;34m=\u001b[0m \u001b[0mforward_propagation\u001b[0m\u001b[0;34m(\u001b[0m\u001b[0mX\u001b[0m\u001b[0;34m,\u001b[0m\u001b[0mhyperparameters\u001b[0m\u001b[0;34m,\u001b[0m\u001b[0mparameters\u001b[0m\u001b[0;34m)\u001b[0m\u001b[0;34m\u001b[0m\u001b[0m\n\u001b[0m\u001b[1;32m      4\u001b[0m     \u001b[0mclassify\u001b[0m \u001b[0;34m=\u001b[0m \u001b[0mtf\u001b[0m\u001b[0;34m.\u001b[0m\u001b[0mnn\u001b[0m\u001b[0;34m.\u001b[0m\u001b[0msoftmax\u001b[0m\u001b[0;34m(\u001b[0m\u001b[0mtf\u001b[0m\u001b[0;34m.\u001b[0m\u001b[0mtranspose\u001b[0m\u001b[0;34m(\u001b[0m\u001b[0mpred\u001b[0m\u001b[0;34m)\u001b[0m\u001b[0;34m)\u001b[0m\u001b[0;34m\u001b[0m\u001b[0m\n\u001b[1;32m      5\u001b[0m     \u001b[0msession\u001b[0m \u001b[0;34m=\u001b[0m \u001b[0mtf\u001b[0m\u001b[0;34m.\u001b[0m\u001b[0mSession\u001b[0m\u001b[0;34m(\u001b[0m\u001b[0;34m)\u001b[0m\u001b[0;34m\u001b[0m\u001b[0m\n",
      "\u001b[0;32m<ipython-input-27-087ba1c721bf>\u001b[0m in \u001b[0;36mforward_propagation\u001b[0;34m(X, hyperparameters, parameters)\u001b[0m\n\u001b[1;32m      7\u001b[0m     \u001b[0mAi\u001b[0m\u001b[0;34m[\u001b[0m\u001b[0;36m0\u001b[0m\u001b[0;34m]\u001b[0m \u001b[0;34m=\u001b[0m \u001b[0mX\u001b[0m\u001b[0;34m\u001b[0m\u001b[0m\n\u001b[1;32m      8\u001b[0m     \u001b[0;32mfor\u001b[0m \u001b[0ml\u001b[0m \u001b[0;32min\u001b[0m \u001b[0mrange\u001b[0m\u001b[0;34m(\u001b[0m\u001b[0;36m1\u001b[0m\u001b[0;34m,\u001b[0m\u001b[0mL\u001b[0m\u001b[0;34m+\u001b[0m\u001b[0;36m1\u001b[0m\u001b[0;34m)\u001b[0m\u001b[0;34m:\u001b[0m\u001b[0;34m\u001b[0m\u001b[0m\n\u001b[0;32m----> 9\u001b[0;31m         \u001b[0mZi\u001b[0m\u001b[0;34m[\u001b[0m\u001b[0ml\u001b[0m\u001b[0;34m]\u001b[0m \u001b[0;34m=\u001b[0m \u001b[0mtf\u001b[0m\u001b[0;34m.\u001b[0m\u001b[0mmatmul\u001b[0m\u001b[0;34m(\u001b[0m\u001b[0mparameters\u001b[0m\u001b[0;34m[\u001b[0m\u001b[0;34m'W'\u001b[0m\u001b[0;34m+\u001b[0m\u001b[0mstr\u001b[0m\u001b[0;34m(\u001b[0m\u001b[0ml\u001b[0m\u001b[0;34m)\u001b[0m\u001b[0;34m]\u001b[0m\u001b[0;34m,\u001b[0m\u001b[0mAi\u001b[0m\u001b[0;34m[\u001b[0m\u001b[0ml\u001b[0m\u001b[0;34m-\u001b[0m\u001b[0;36m1\u001b[0m\u001b[0;34m]\u001b[0m\u001b[0;34m)\u001b[0m\u001b[0;34m+\u001b[0m\u001b[0mparameters\u001b[0m\u001b[0;34m[\u001b[0m\u001b[0;34m'b'\u001b[0m\u001b[0;34m+\u001b[0m\u001b[0mstr\u001b[0m\u001b[0;34m(\u001b[0m\u001b[0ml\u001b[0m\u001b[0;34m)\u001b[0m\u001b[0;34m]\u001b[0m\u001b[0;34m\u001b[0m\u001b[0m\n\u001b[0m\u001b[1;32m     10\u001b[0m         \u001b[0mAi\u001b[0m\u001b[0;34m[\u001b[0m\u001b[0ml\u001b[0m\u001b[0;34m]\u001b[0m \u001b[0;34m=\u001b[0m \u001b[0mtf\u001b[0m\u001b[0;34m.\u001b[0m\u001b[0mnn\u001b[0m\u001b[0;34m.\u001b[0m\u001b[0mrelu\u001b[0m\u001b[0;34m(\u001b[0m\u001b[0mZi\u001b[0m\u001b[0;34m[\u001b[0m\u001b[0ml\u001b[0m\u001b[0;34m]\u001b[0m\u001b[0;34m)\u001b[0m\u001b[0;34m\u001b[0m\u001b[0m\n\u001b[1;32m     11\u001b[0m         \u001b[0;31m#print(\"ff\"+str(l)+\" \"+'W'+str(l)+\"x\"+\"Ai[\"+str(l-1)+\"] + \"+'b'+str(l))\u001b[0m\u001b[0;34m\u001b[0m\u001b[0;34m\u001b[0m\u001b[0m\n",
      "\u001b[0;32m/Users/y-/anaconda/lib/python3.6/site-packages/tensorflow/python/ops/math_ops.py\u001b[0m in \u001b[0;36mmatmul\u001b[0;34m(a, b, transpose_a, transpose_b, adjoint_a, adjoint_b, a_is_sparse, b_is_sparse, name)\u001b[0m\n\u001b[1;32m   1747\u001b[0m       \u001b[0mare\u001b[0m \u001b[0mboth\u001b[0m \u001b[0mset\u001b[0m \u001b[0mto\u001b[0m \u001b[0;32mTrue\u001b[0m\u001b[0;34m.\u001b[0m\u001b[0;34m\u001b[0m\u001b[0m\n\u001b[1;32m   1748\u001b[0m   \"\"\"\n\u001b[0;32m-> 1749\u001b[0;31m   \u001b[0;32mwith\u001b[0m \u001b[0mops\u001b[0m\u001b[0;34m.\u001b[0m\u001b[0mname_scope\u001b[0m\u001b[0;34m(\u001b[0m\u001b[0mname\u001b[0m\u001b[0;34m,\u001b[0m \u001b[0;34m\"MatMul\"\u001b[0m\u001b[0;34m,\u001b[0m \u001b[0;34m[\u001b[0m\u001b[0ma\u001b[0m\u001b[0;34m,\u001b[0m \u001b[0mb\u001b[0m\u001b[0;34m]\u001b[0m\u001b[0;34m)\u001b[0m \u001b[0;32mas\u001b[0m \u001b[0mname\u001b[0m\u001b[0;34m:\u001b[0m\u001b[0;34m\u001b[0m\u001b[0m\n\u001b[0m\u001b[1;32m   1750\u001b[0m     \u001b[0;32mif\u001b[0m \u001b[0mtranspose_a\u001b[0m \u001b[0;32mand\u001b[0m \u001b[0madjoint_a\u001b[0m\u001b[0;34m:\u001b[0m\u001b[0;34m\u001b[0m\u001b[0m\n\u001b[1;32m   1751\u001b[0m       \u001b[0;32mraise\u001b[0m \u001b[0mValueError\u001b[0m\u001b[0;34m(\u001b[0m\u001b[0;34m\"Only one of transpose_a and adjoint_a can be True.\"\u001b[0m\u001b[0;34m)\u001b[0m\u001b[0;34m\u001b[0m\u001b[0m\n",
      "\u001b[0;32m/Users/y-/anaconda/lib/python3.6/contextlib.py\u001b[0m in \u001b[0;36m__enter__\u001b[0;34m(self)\u001b[0m\n\u001b[1;32m     80\u001b[0m     \u001b[0;32mdef\u001b[0m \u001b[0m__enter__\u001b[0m\u001b[0;34m(\u001b[0m\u001b[0mself\u001b[0m\u001b[0;34m)\u001b[0m\u001b[0;34m:\u001b[0m\u001b[0;34m\u001b[0m\u001b[0m\n\u001b[1;32m     81\u001b[0m         \u001b[0;32mtry\u001b[0m\u001b[0;34m:\u001b[0m\u001b[0;34m\u001b[0m\u001b[0m\n\u001b[0;32m---> 82\u001b[0;31m             \u001b[0;32mreturn\u001b[0m \u001b[0mnext\u001b[0m\u001b[0;34m(\u001b[0m\u001b[0mself\u001b[0m\u001b[0;34m.\u001b[0m\u001b[0mgen\u001b[0m\u001b[0;34m)\u001b[0m\u001b[0;34m\u001b[0m\u001b[0m\n\u001b[0m\u001b[1;32m     83\u001b[0m         \u001b[0;32mexcept\u001b[0m \u001b[0mStopIteration\u001b[0m\u001b[0;34m:\u001b[0m\u001b[0;34m\u001b[0m\u001b[0m\n\u001b[1;32m     84\u001b[0m             \u001b[0;32mraise\u001b[0m \u001b[0mRuntimeError\u001b[0m\u001b[0;34m(\u001b[0m\u001b[0;34m\"generator didn't yield\"\u001b[0m\u001b[0;34m)\u001b[0m \u001b[0;32mfrom\u001b[0m \u001b[0;32mNone\u001b[0m\u001b[0;34m\u001b[0m\u001b[0m\n",
      "\u001b[0;32m/Users/y-/anaconda/lib/python3.6/site-packages/tensorflow/python/framework/ops.py\u001b[0m in \u001b[0;36mname_scope\u001b[0;34m(name, default_name, values)\u001b[0m\n\u001b[1;32m   4165\u001b[0m   \u001b[0;32mif\u001b[0m \u001b[0mvalues\u001b[0m \u001b[0;32mis\u001b[0m \u001b[0;32mNone\u001b[0m\u001b[0;34m:\u001b[0m\u001b[0;34m\u001b[0m\u001b[0m\n\u001b[1;32m   4166\u001b[0m     \u001b[0mvalues\u001b[0m \u001b[0;34m=\u001b[0m \u001b[0;34m[\u001b[0m\u001b[0;34m]\u001b[0m\u001b[0;34m\u001b[0m\u001b[0m\n\u001b[0;32m-> 4167\u001b[0;31m   \u001b[0mg\u001b[0m \u001b[0;34m=\u001b[0m \u001b[0m_get_graph_from_inputs\u001b[0m\u001b[0;34m(\u001b[0m\u001b[0mvalues\u001b[0m\u001b[0;34m)\u001b[0m\u001b[0;34m\u001b[0m\u001b[0m\n\u001b[0m\u001b[1;32m   4168\u001b[0m   \u001b[0;32mwith\u001b[0m \u001b[0mg\u001b[0m\u001b[0;34m.\u001b[0m\u001b[0mas_default\u001b[0m\u001b[0;34m(\u001b[0m\u001b[0;34m)\u001b[0m\u001b[0;34m,\u001b[0m \u001b[0mg\u001b[0m\u001b[0;34m.\u001b[0m\u001b[0mname_scope\u001b[0m\u001b[0;34m(\u001b[0m\u001b[0mn\u001b[0m\u001b[0;34m)\u001b[0m \u001b[0;32mas\u001b[0m \u001b[0mscope\u001b[0m\u001b[0;34m:\u001b[0m\u001b[0;34m\u001b[0m\u001b[0m\n\u001b[1;32m   4169\u001b[0m     \u001b[0;32myield\u001b[0m \u001b[0mscope\u001b[0m\u001b[0;34m\u001b[0m\u001b[0m\n",
      "\u001b[0;32m/Users/y-/anaconda/lib/python3.6/site-packages/tensorflow/python/framework/ops.py\u001b[0m in \u001b[0;36m_get_graph_from_inputs\u001b[0;34m(op_input_list, graph)\u001b[0m\n\u001b[1;32m   3910\u001b[0m         \u001b[0mgraph\u001b[0m \u001b[0;34m=\u001b[0m \u001b[0mgraph_element\u001b[0m\u001b[0;34m.\u001b[0m\u001b[0mgraph\u001b[0m\u001b[0;34m\u001b[0m\u001b[0m\n\u001b[1;32m   3911\u001b[0m       \u001b[0;32melif\u001b[0m \u001b[0moriginal_graph_element\u001b[0m \u001b[0;32mis\u001b[0m \u001b[0;32mnot\u001b[0m \u001b[0;32mNone\u001b[0m\u001b[0;34m:\u001b[0m\u001b[0;34m\u001b[0m\u001b[0m\n\u001b[0;32m-> 3912\u001b[0;31m         \u001b[0m_assert_same_graph\u001b[0m\u001b[0;34m(\u001b[0m\u001b[0moriginal_graph_element\u001b[0m\u001b[0;34m,\u001b[0m \u001b[0mgraph_element\u001b[0m\u001b[0;34m)\u001b[0m\u001b[0;34m\u001b[0m\u001b[0m\n\u001b[0m\u001b[1;32m   3913\u001b[0m       \u001b[0;32melif\u001b[0m \u001b[0mgraph_element\u001b[0m\u001b[0;34m.\u001b[0m\u001b[0mgraph\u001b[0m \u001b[0;32mis\u001b[0m \u001b[0;32mnot\u001b[0m \u001b[0mgraph\u001b[0m\u001b[0;34m:\u001b[0m\u001b[0;34m\u001b[0m\u001b[0m\n\u001b[1;32m   3914\u001b[0m         raise ValueError(\n",
      "\u001b[0;32m/Users/y-/anaconda/lib/python3.6/site-packages/tensorflow/python/framework/ops.py\u001b[0m in \u001b[0;36m_assert_same_graph\u001b[0;34m(original_item, item)\u001b[0m\n\u001b[1;32m   3849\u001b[0m   \u001b[0;32mif\u001b[0m \u001b[0moriginal_item\u001b[0m\u001b[0;34m.\u001b[0m\u001b[0mgraph\u001b[0m \u001b[0;32mis\u001b[0m \u001b[0;32mnot\u001b[0m \u001b[0mitem\u001b[0m\u001b[0;34m.\u001b[0m\u001b[0mgraph\u001b[0m\u001b[0;34m:\u001b[0m\u001b[0;34m\u001b[0m\u001b[0m\n\u001b[1;32m   3850\u001b[0m     raise ValueError(\n\u001b[0;32m-> 3851\u001b[0;31m         \"%s must be from the same graph as %s.\" % (item, original_item))\n\u001b[0m\u001b[1;32m   3852\u001b[0m \u001b[0;34m\u001b[0m\u001b[0m\n\u001b[1;32m   3853\u001b[0m \u001b[0;34m\u001b[0m\u001b[0m\n",
      "\u001b[0;31mValueError\u001b[0m: Tensor(\"X_1:0\", shape=(16506, ?), dtype=float32) must be from the same graph as Tensor(\"W1:0\", shape=(25, 9), dtype=float32_ref)."
     ]
    }
   ],
   "source": [
    "#XS_train, XS_dev, XS_test, YS_train, YS_dev, YS_test = split_train_dev_test(speech,classes,ratio=.82)\n",
    "sample_i = 1000\n",
    "b = predict(X_test[:,sample_i])\n",
    "c = np.zeros(b.shape[1]).astype(int)\n",
    "\n",
    "c[np.argmax(b)] = 1\n",
    "print(speech[sample_i])\n",
    "print(iwy[np.argmax(b)])\n",
    "print(classes[(sample_i-3)])"
   ]
  },
  {
   "cell_type": "code",
   "execution_count": 46,
   "metadata": {
    "collapsed": true
   },
   "outputs": [],
   "source": [
    "def samples_to(speech,classes,idx):\n",
    "    xvocabulary, iwx = samples_to_vocab(speech)\n",
    "    yvocabulary, iwy = samples_to_vocab(classes)\n",
    "    \n",
    "    _, x = sample_to_vec(speech[idx], xvocabulary)\n",
    "    _, y = sample_to_vec(classes[idx], yvocabulary)\n",
    "    return speech[idx],classes[idx],x.T,y, iwx,iwy\n",
    "    "
   ]
  },
  {
   "cell_type": "code",
   "execution_count": 47,
   "metadata": {
    "collapsed": true
   },
   "outputs": [],
   "source": [
    "def sentence_to_vec(sentence,vocabular):\n",
    "    sample_words = np.array(sentence.split(\" \"))\n",
    "    vec = np.array([vocabular.get(x) for x in sample_words if vocabular.get(x) is not None])\n",
    "    one_hot = np.zeros([len(vec), len(vocabular)])\n",
    "    one_hot[np.arange(len(vec)),vec] = 1\n",
    "    one_hot = np.sum(one_hot,axis=0)\n",
    "    return one_hot, vec"
   ]
  },
  {
   "cell_type": "code",
   "execution_count": 48,
   "metadata": {
    "collapsed": true
   },
   "outputs": [],
   "source": [
    "def test_predict(sentence,full_vocabulary,classY):\n",
    "    str_s = sentence.lower()\n",
    "    jvoc = np.asarray([k for k,v in full_vocabulary.items()])\n",
    "    print(jvoc.shape)\n",
    "    jvoc, iwx_red = remove_features(jvoc,del_idx,iwx,remove)\n",
    "\n",
    "    jvoc = dict(zip(jvoc,range(len(jvoc))))\n",
    "    \n",
    "    xr,_ =sentence_to_vec(str_s,jvoc)\n",
    "    xr = xr.reshape(xr.shape[0],1)\n",
    "    pred = predict(xr)\n",
    "    c = np.zeros(pred.shape[1]).astype(int)\n",
    "    c[np.argmax(pred)] = 1\n",
    "    \n",
    "    print(\"{0}\\n{1} ---> {2}\\n{3}\\n\".format(str_s,x,pred,classY[np.argmax(pred)]))\n",
    "    "
   ]
  },
  {
   "cell_type": "code",
   "execution_count": 50,
   "metadata": {},
   "outputs": [
    {
     "name": "stdout",
     "output_type": "stream",
     "text": [
      "(16506, 16604)\n",
      "(16535,)\n",
      "(16535,)\n"
     ]
    },
    {
     "ename": "ValueError",
     "evalue": "Tensor(\"X_2:0\", shape=(16506, ?), dtype=float32) must be from the same graph as Tensor(\"W1:0\", shape=(25, 9), dtype=float32_ref).",
     "output_type": "error",
     "traceback": [
      "\u001b[0;31m---------------------------------------------------------------------------\u001b[0m",
      "\u001b[0;31mValueError\u001b[0m                                Traceback (most recent call last)",
      "\u001b[0;32m<ipython-input-50-f734574c8b3c>\u001b[0m in \u001b[0;36m<module>\u001b[0;34m()\u001b[0m\n\u001b[1;32m      9\u001b[0m \u001b[0mjvoc\u001b[0m \u001b[0;34m=\u001b[0m \u001b[0mdict\u001b[0m\u001b[0;34m(\u001b[0m\u001b[0mzip\u001b[0m\u001b[0;34m(\u001b[0m\u001b[0mjvoc\u001b[0m\u001b[0;34m,\u001b[0m\u001b[0mrange\u001b[0m\u001b[0;34m(\u001b[0m\u001b[0mlen\u001b[0m\u001b[0;34m(\u001b[0m\u001b[0mjvoc\u001b[0m\u001b[0;34m)\u001b[0m\u001b[0;34m)\u001b[0m\u001b[0;34m)\u001b[0m\u001b[0;34m)\u001b[0m\u001b[0;34m\u001b[0m\u001b[0m\n\u001b[1;32m     10\u001b[0m \u001b[0;34m\u001b[0m\u001b[0m\n\u001b[0;32m---> 11\u001b[0;31m \u001b[0mtest_predict\u001b[0m\u001b[0;34m(\u001b[0m\u001b[0;34m\"Man tycker ju som lekman att det i lagtexterna också skulle kunna fogas in någon formulering att om ett möte hindrar andra att hålla sina möten\"\u001b[0m\u001b[0;34m,\u001b[0m\u001b[0mvocabulary_x\u001b[0m\u001b[0;34m,\u001b[0m\u001b[0miwy\u001b[0m\u001b[0;34m)\u001b[0m\u001b[0;34m\u001b[0m\u001b[0m\n\u001b[0m",
      "\u001b[0;32m<ipython-input-48-226ad10d18d3>\u001b[0m in \u001b[0;36mtest_predict\u001b[0;34m(sentence, full_vocabulary, classY)\u001b[0m\n\u001b[1;32m      9\u001b[0m     \u001b[0mxr\u001b[0m\u001b[0;34m,\u001b[0m\u001b[0m_\u001b[0m \u001b[0;34m=\u001b[0m\u001b[0msentence_to_vec\u001b[0m\u001b[0;34m(\u001b[0m\u001b[0mstr_s\u001b[0m\u001b[0;34m,\u001b[0m\u001b[0mjvoc\u001b[0m\u001b[0;34m)\u001b[0m\u001b[0;34m\u001b[0m\u001b[0m\n\u001b[1;32m     10\u001b[0m     \u001b[0mxr\u001b[0m \u001b[0;34m=\u001b[0m \u001b[0mxr\u001b[0m\u001b[0;34m.\u001b[0m\u001b[0mreshape\u001b[0m\u001b[0;34m(\u001b[0m\u001b[0mxr\u001b[0m\u001b[0;34m.\u001b[0m\u001b[0mshape\u001b[0m\u001b[0;34m[\u001b[0m\u001b[0;36m0\u001b[0m\u001b[0;34m]\u001b[0m\u001b[0;34m,\u001b[0m\u001b[0;36m1\u001b[0m\u001b[0;34m)\u001b[0m\u001b[0;34m\u001b[0m\u001b[0m\n\u001b[0;32m---> 11\u001b[0;31m     \u001b[0mpred\u001b[0m \u001b[0;34m=\u001b[0m \u001b[0mpredict\u001b[0m\u001b[0;34m(\u001b[0m\u001b[0mxr\u001b[0m\u001b[0;34m)\u001b[0m\u001b[0;34m\u001b[0m\u001b[0m\n\u001b[0m\u001b[1;32m     12\u001b[0m     \u001b[0mc\u001b[0m \u001b[0;34m=\u001b[0m \u001b[0mnp\u001b[0m\u001b[0;34m.\u001b[0m\u001b[0mzeros\u001b[0m\u001b[0;34m(\u001b[0m\u001b[0mpred\u001b[0m\u001b[0;34m.\u001b[0m\u001b[0mshape\u001b[0m\u001b[0;34m[\u001b[0m\u001b[0;36m1\u001b[0m\u001b[0;34m]\u001b[0m\u001b[0;34m)\u001b[0m\u001b[0;34m.\u001b[0m\u001b[0mastype\u001b[0m\u001b[0;34m(\u001b[0m\u001b[0mint\u001b[0m\u001b[0;34m)\u001b[0m\u001b[0;34m\u001b[0m\u001b[0m\n\u001b[1;32m     13\u001b[0m     \u001b[0mc\u001b[0m\u001b[0;34m[\u001b[0m\u001b[0mnp\u001b[0m\u001b[0;34m.\u001b[0m\u001b[0margmax\u001b[0m\u001b[0;34m(\u001b[0m\u001b[0mpred\u001b[0m\u001b[0;34m)\u001b[0m\u001b[0;34m]\u001b[0m \u001b[0;34m=\u001b[0m \u001b[0;36m1\u001b[0m\u001b[0;34m\u001b[0m\u001b[0m\n",
      "\u001b[0;32m<ipython-input-42-abfcd2529478>\u001b[0m in \u001b[0;36mpredict\u001b[0;34m(X_samp)\u001b[0m\n\u001b[1;32m      1\u001b[0m \u001b[0;32mdef\u001b[0m \u001b[0mpredict\u001b[0m\u001b[0;34m(\u001b[0m\u001b[0mX_samp\u001b[0m\u001b[0;34m)\u001b[0m\u001b[0;34m:\u001b[0m\u001b[0;34m\u001b[0m\u001b[0m\n\u001b[1;32m      2\u001b[0m     \u001b[0mX\u001b[0m \u001b[0;34m=\u001b[0m \u001b[0mtf\u001b[0m\u001b[0;34m.\u001b[0m\u001b[0mplaceholder\u001b[0m\u001b[0;34m(\u001b[0m\u001b[0mshape\u001b[0m\u001b[0;34m=\u001b[0m\u001b[0;34m[\u001b[0m\u001b[0mX_train\u001b[0m\u001b[0;34m.\u001b[0m\u001b[0mshape\u001b[0m\u001b[0;34m[\u001b[0m\u001b[0;36m0\u001b[0m\u001b[0;34m]\u001b[0m\u001b[0;34m,\u001b[0m\u001b[0;32mNone\u001b[0m\u001b[0;34m]\u001b[0m\u001b[0;34m,\u001b[0m\u001b[0mdtype\u001b[0m\u001b[0;34m=\u001b[0m\u001b[0mtf\u001b[0m\u001b[0;34m.\u001b[0m\u001b[0mfloat32\u001b[0m\u001b[0;34m,\u001b[0m\u001b[0mname\u001b[0m\u001b[0;34m=\u001b[0m\u001b[0;34m\"X\"\u001b[0m\u001b[0;34m)\u001b[0m\u001b[0;34m\u001b[0m\u001b[0m\n\u001b[0;32m----> 3\u001b[0;31m     \u001b[0mpred\u001b[0m \u001b[0;34m=\u001b[0m \u001b[0mforward_propagation\u001b[0m\u001b[0;34m(\u001b[0m\u001b[0mX\u001b[0m\u001b[0;34m,\u001b[0m\u001b[0mhyperparameters\u001b[0m\u001b[0;34m,\u001b[0m\u001b[0mparameters\u001b[0m\u001b[0;34m)\u001b[0m\u001b[0;34m\u001b[0m\u001b[0m\n\u001b[0m\u001b[1;32m      4\u001b[0m     \u001b[0mclassify\u001b[0m \u001b[0;34m=\u001b[0m \u001b[0mtf\u001b[0m\u001b[0;34m.\u001b[0m\u001b[0mnn\u001b[0m\u001b[0;34m.\u001b[0m\u001b[0msoftmax\u001b[0m\u001b[0;34m(\u001b[0m\u001b[0mtf\u001b[0m\u001b[0;34m.\u001b[0m\u001b[0mtranspose\u001b[0m\u001b[0;34m(\u001b[0m\u001b[0mpred\u001b[0m\u001b[0;34m)\u001b[0m\u001b[0;34m)\u001b[0m\u001b[0;34m\u001b[0m\u001b[0m\n\u001b[1;32m      5\u001b[0m     \u001b[0msession\u001b[0m \u001b[0;34m=\u001b[0m \u001b[0mtf\u001b[0m\u001b[0;34m.\u001b[0m\u001b[0mSession\u001b[0m\u001b[0;34m(\u001b[0m\u001b[0;34m)\u001b[0m\u001b[0;34m\u001b[0m\u001b[0m\n",
      "\u001b[0;32m<ipython-input-27-087ba1c721bf>\u001b[0m in \u001b[0;36mforward_propagation\u001b[0;34m(X, hyperparameters, parameters)\u001b[0m\n\u001b[1;32m      7\u001b[0m     \u001b[0mAi\u001b[0m\u001b[0;34m[\u001b[0m\u001b[0;36m0\u001b[0m\u001b[0;34m]\u001b[0m \u001b[0;34m=\u001b[0m \u001b[0mX\u001b[0m\u001b[0;34m\u001b[0m\u001b[0m\n\u001b[1;32m      8\u001b[0m     \u001b[0;32mfor\u001b[0m \u001b[0ml\u001b[0m \u001b[0;32min\u001b[0m \u001b[0mrange\u001b[0m\u001b[0;34m(\u001b[0m\u001b[0;36m1\u001b[0m\u001b[0;34m,\u001b[0m\u001b[0mL\u001b[0m\u001b[0;34m+\u001b[0m\u001b[0;36m1\u001b[0m\u001b[0;34m)\u001b[0m\u001b[0;34m:\u001b[0m\u001b[0;34m\u001b[0m\u001b[0m\n\u001b[0;32m----> 9\u001b[0;31m         \u001b[0mZi\u001b[0m\u001b[0;34m[\u001b[0m\u001b[0ml\u001b[0m\u001b[0;34m]\u001b[0m \u001b[0;34m=\u001b[0m \u001b[0mtf\u001b[0m\u001b[0;34m.\u001b[0m\u001b[0mmatmul\u001b[0m\u001b[0;34m(\u001b[0m\u001b[0mparameters\u001b[0m\u001b[0;34m[\u001b[0m\u001b[0;34m'W'\u001b[0m\u001b[0;34m+\u001b[0m\u001b[0mstr\u001b[0m\u001b[0;34m(\u001b[0m\u001b[0ml\u001b[0m\u001b[0;34m)\u001b[0m\u001b[0;34m]\u001b[0m\u001b[0;34m,\u001b[0m\u001b[0mAi\u001b[0m\u001b[0;34m[\u001b[0m\u001b[0ml\u001b[0m\u001b[0;34m-\u001b[0m\u001b[0;36m1\u001b[0m\u001b[0;34m]\u001b[0m\u001b[0;34m)\u001b[0m\u001b[0;34m+\u001b[0m\u001b[0mparameters\u001b[0m\u001b[0;34m[\u001b[0m\u001b[0;34m'b'\u001b[0m\u001b[0;34m+\u001b[0m\u001b[0mstr\u001b[0m\u001b[0;34m(\u001b[0m\u001b[0ml\u001b[0m\u001b[0;34m)\u001b[0m\u001b[0;34m]\u001b[0m\u001b[0;34m\u001b[0m\u001b[0m\n\u001b[0m\u001b[1;32m     10\u001b[0m         \u001b[0mAi\u001b[0m\u001b[0;34m[\u001b[0m\u001b[0ml\u001b[0m\u001b[0;34m]\u001b[0m \u001b[0;34m=\u001b[0m \u001b[0mtf\u001b[0m\u001b[0;34m.\u001b[0m\u001b[0mnn\u001b[0m\u001b[0;34m.\u001b[0m\u001b[0mrelu\u001b[0m\u001b[0;34m(\u001b[0m\u001b[0mZi\u001b[0m\u001b[0;34m[\u001b[0m\u001b[0ml\u001b[0m\u001b[0;34m]\u001b[0m\u001b[0;34m)\u001b[0m\u001b[0;34m\u001b[0m\u001b[0m\n\u001b[1;32m     11\u001b[0m         \u001b[0;31m#print(\"ff\"+str(l)+\" \"+'W'+str(l)+\"x\"+\"Ai[\"+str(l-1)+\"] + \"+'b'+str(l))\u001b[0m\u001b[0;34m\u001b[0m\u001b[0;34m\u001b[0m\u001b[0m\n",
      "\u001b[0;32m/Users/y-/anaconda/lib/python3.6/site-packages/tensorflow/python/ops/math_ops.py\u001b[0m in \u001b[0;36mmatmul\u001b[0;34m(a, b, transpose_a, transpose_b, adjoint_a, adjoint_b, a_is_sparse, b_is_sparse, name)\u001b[0m\n\u001b[1;32m   1747\u001b[0m       \u001b[0mare\u001b[0m \u001b[0mboth\u001b[0m \u001b[0mset\u001b[0m \u001b[0mto\u001b[0m \u001b[0;32mTrue\u001b[0m\u001b[0;34m.\u001b[0m\u001b[0;34m\u001b[0m\u001b[0m\n\u001b[1;32m   1748\u001b[0m   \"\"\"\n\u001b[0;32m-> 1749\u001b[0;31m   \u001b[0;32mwith\u001b[0m \u001b[0mops\u001b[0m\u001b[0;34m.\u001b[0m\u001b[0mname_scope\u001b[0m\u001b[0;34m(\u001b[0m\u001b[0mname\u001b[0m\u001b[0;34m,\u001b[0m \u001b[0;34m\"MatMul\"\u001b[0m\u001b[0;34m,\u001b[0m \u001b[0;34m[\u001b[0m\u001b[0ma\u001b[0m\u001b[0;34m,\u001b[0m \u001b[0mb\u001b[0m\u001b[0;34m]\u001b[0m\u001b[0;34m)\u001b[0m \u001b[0;32mas\u001b[0m \u001b[0mname\u001b[0m\u001b[0;34m:\u001b[0m\u001b[0;34m\u001b[0m\u001b[0m\n\u001b[0m\u001b[1;32m   1750\u001b[0m     \u001b[0;32mif\u001b[0m \u001b[0mtranspose_a\u001b[0m \u001b[0;32mand\u001b[0m \u001b[0madjoint_a\u001b[0m\u001b[0;34m:\u001b[0m\u001b[0;34m\u001b[0m\u001b[0m\n\u001b[1;32m   1751\u001b[0m       \u001b[0;32mraise\u001b[0m \u001b[0mValueError\u001b[0m\u001b[0;34m(\u001b[0m\u001b[0;34m\"Only one of transpose_a and adjoint_a can be True.\"\u001b[0m\u001b[0;34m)\u001b[0m\u001b[0;34m\u001b[0m\u001b[0m\n",
      "\u001b[0;32m/Users/y-/anaconda/lib/python3.6/contextlib.py\u001b[0m in \u001b[0;36m__enter__\u001b[0;34m(self)\u001b[0m\n\u001b[1;32m     80\u001b[0m     \u001b[0;32mdef\u001b[0m \u001b[0m__enter__\u001b[0m\u001b[0;34m(\u001b[0m\u001b[0mself\u001b[0m\u001b[0;34m)\u001b[0m\u001b[0;34m:\u001b[0m\u001b[0;34m\u001b[0m\u001b[0m\n\u001b[1;32m     81\u001b[0m         \u001b[0;32mtry\u001b[0m\u001b[0;34m:\u001b[0m\u001b[0;34m\u001b[0m\u001b[0m\n\u001b[0;32m---> 82\u001b[0;31m             \u001b[0;32mreturn\u001b[0m \u001b[0mnext\u001b[0m\u001b[0;34m(\u001b[0m\u001b[0mself\u001b[0m\u001b[0;34m.\u001b[0m\u001b[0mgen\u001b[0m\u001b[0;34m)\u001b[0m\u001b[0;34m\u001b[0m\u001b[0m\n\u001b[0m\u001b[1;32m     83\u001b[0m         \u001b[0;32mexcept\u001b[0m \u001b[0mStopIteration\u001b[0m\u001b[0;34m:\u001b[0m\u001b[0;34m\u001b[0m\u001b[0m\n\u001b[1;32m     84\u001b[0m             \u001b[0;32mraise\u001b[0m \u001b[0mRuntimeError\u001b[0m\u001b[0;34m(\u001b[0m\u001b[0;34m\"generator didn't yield\"\u001b[0m\u001b[0;34m)\u001b[0m \u001b[0;32mfrom\u001b[0m \u001b[0;32mNone\u001b[0m\u001b[0;34m\u001b[0m\u001b[0m\n",
      "\u001b[0;32m/Users/y-/anaconda/lib/python3.6/site-packages/tensorflow/python/framework/ops.py\u001b[0m in \u001b[0;36mname_scope\u001b[0;34m(name, default_name, values)\u001b[0m\n\u001b[1;32m   4165\u001b[0m   \u001b[0;32mif\u001b[0m \u001b[0mvalues\u001b[0m \u001b[0;32mis\u001b[0m \u001b[0;32mNone\u001b[0m\u001b[0;34m:\u001b[0m\u001b[0;34m\u001b[0m\u001b[0m\n\u001b[1;32m   4166\u001b[0m     \u001b[0mvalues\u001b[0m \u001b[0;34m=\u001b[0m \u001b[0;34m[\u001b[0m\u001b[0;34m]\u001b[0m\u001b[0;34m\u001b[0m\u001b[0m\n\u001b[0;32m-> 4167\u001b[0;31m   \u001b[0mg\u001b[0m \u001b[0;34m=\u001b[0m \u001b[0m_get_graph_from_inputs\u001b[0m\u001b[0;34m(\u001b[0m\u001b[0mvalues\u001b[0m\u001b[0;34m)\u001b[0m\u001b[0;34m\u001b[0m\u001b[0m\n\u001b[0m\u001b[1;32m   4168\u001b[0m   \u001b[0;32mwith\u001b[0m \u001b[0mg\u001b[0m\u001b[0;34m.\u001b[0m\u001b[0mas_default\u001b[0m\u001b[0;34m(\u001b[0m\u001b[0;34m)\u001b[0m\u001b[0;34m,\u001b[0m \u001b[0mg\u001b[0m\u001b[0;34m.\u001b[0m\u001b[0mname_scope\u001b[0m\u001b[0;34m(\u001b[0m\u001b[0mn\u001b[0m\u001b[0;34m)\u001b[0m \u001b[0;32mas\u001b[0m \u001b[0mscope\u001b[0m\u001b[0;34m:\u001b[0m\u001b[0;34m\u001b[0m\u001b[0m\n\u001b[1;32m   4169\u001b[0m     \u001b[0;32myield\u001b[0m \u001b[0mscope\u001b[0m\u001b[0;34m\u001b[0m\u001b[0m\n",
      "\u001b[0;32m/Users/y-/anaconda/lib/python3.6/site-packages/tensorflow/python/framework/ops.py\u001b[0m in \u001b[0;36m_get_graph_from_inputs\u001b[0;34m(op_input_list, graph)\u001b[0m\n\u001b[1;32m   3910\u001b[0m         \u001b[0mgraph\u001b[0m \u001b[0;34m=\u001b[0m \u001b[0mgraph_element\u001b[0m\u001b[0;34m.\u001b[0m\u001b[0mgraph\u001b[0m\u001b[0;34m\u001b[0m\u001b[0m\n\u001b[1;32m   3911\u001b[0m       \u001b[0;32melif\u001b[0m \u001b[0moriginal_graph_element\u001b[0m \u001b[0;32mis\u001b[0m \u001b[0;32mnot\u001b[0m \u001b[0;32mNone\u001b[0m\u001b[0;34m:\u001b[0m\u001b[0;34m\u001b[0m\u001b[0m\n\u001b[0;32m-> 3912\u001b[0;31m         \u001b[0m_assert_same_graph\u001b[0m\u001b[0;34m(\u001b[0m\u001b[0moriginal_graph_element\u001b[0m\u001b[0;34m,\u001b[0m \u001b[0mgraph_element\u001b[0m\u001b[0;34m)\u001b[0m\u001b[0;34m\u001b[0m\u001b[0m\n\u001b[0m\u001b[1;32m   3913\u001b[0m       \u001b[0;32melif\u001b[0m \u001b[0mgraph_element\u001b[0m\u001b[0;34m.\u001b[0m\u001b[0mgraph\u001b[0m \u001b[0;32mis\u001b[0m \u001b[0;32mnot\u001b[0m \u001b[0mgraph\u001b[0m\u001b[0;34m:\u001b[0m\u001b[0;34m\u001b[0m\u001b[0m\n\u001b[1;32m   3914\u001b[0m         raise ValueError(\n",
      "\u001b[0;32m/Users/y-/anaconda/lib/python3.6/site-packages/tensorflow/python/framework/ops.py\u001b[0m in \u001b[0;36m_assert_same_graph\u001b[0;34m(original_item, item)\u001b[0m\n\u001b[1;32m   3849\u001b[0m   \u001b[0;32mif\u001b[0m \u001b[0moriginal_item\u001b[0m\u001b[0;34m.\u001b[0m\u001b[0mgraph\u001b[0m \u001b[0;32mis\u001b[0m \u001b[0;32mnot\u001b[0m \u001b[0mitem\u001b[0m\u001b[0;34m.\u001b[0m\u001b[0mgraph\u001b[0m\u001b[0;34m:\u001b[0m\u001b[0;34m\u001b[0m\u001b[0m\n\u001b[1;32m   3850\u001b[0m     raise ValueError(\n\u001b[0;32m-> 3851\u001b[0;31m         \"%s must be from the same graph as %s.\" % (item, original_item))\n\u001b[0m\u001b[1;32m   3852\u001b[0m \u001b[0;34m\u001b[0m\u001b[0m\n\u001b[1;32m   3853\u001b[0m \u001b[0;34m\u001b[0m\u001b[0m\n",
      "\u001b[0;31mValueError\u001b[0m: Tensor(\"X_2:0\", shape=(16506, ?), dtype=float32) must be from the same graph as Tensor(\"W1:0\", shape=(25, 9), dtype=float32_ref)."
     ]
    }
   ],
   "source": [
    "print(X_orig.shape)\n",
    "str_s,str_c,x,y,iwx,iwy =    samples_to(speech,classes,1)\n",
    "sample_i = 2622\n",
    "\n",
    "jvoc = np.asarray([k for k,v in vocabulary_x.items()])\n",
    "print(jvoc.shape)\n",
    "jvoc, iwx_red = remove_features(jvoc,del_idx,iwx,remove)\n",
    "\n",
    "jvoc = dict(zip(jvoc,range(len(jvoc))))\n",
    "\n",
    "test_predict(\"Man tycker ju som lekman att det i lagtexterna också skulle kunna fogas in någon formulering att om ett möte hindrar andra att hålla sina möten\",vocabulary_x,iwy)"
   ]
  },
  {
   "cell_type": "code",
   "execution_count": null,
   "metadata": {
    "collapsed": true
   },
   "outputs": [],
   "source": []
  },
  {
   "cell_type": "code",
   "execution_count": null,
   "metadata": {
    "collapsed": true
   },
   "outputs": [],
   "source": []
  }
 ],
 "metadata": {
  "kernelspec": {
   "display_name": "Python 3",
   "language": "python",
   "name": "python3"
  },
  "language_info": {
   "codemirror_mode": {
    "name": "ipython",
    "version": 3
   },
   "file_extension": ".py",
   "mimetype": "text/x-python",
   "name": "python",
   "nbconvert_exporter": "python",
   "pygments_lexer": "ipython3",
   "version": "3.6.1"
  }
 },
 "nbformat": 4,
 "nbformat_minor": 2
}
